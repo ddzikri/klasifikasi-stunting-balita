{
 "cells": [
  {
   "cell_type": "markdown",
   "id": "6b859b50",
   "metadata": {},
   "source": [
    "# Load Data"
   ]
  },
  {
   "cell_type": "code",
   "execution_count": 10,
   "id": "268c041e",
   "metadata": {},
   "outputs": [
    {
     "data": {
      "text/html": [
       "<div>\n",
       "<style scoped>\n",
       "    .dataframe tbody tr th:only-of-type {\n",
       "        vertical-align: middle;\n",
       "    }\n",
       "\n",
       "    .dataframe tbody tr th {\n",
       "        vertical-align: top;\n",
       "    }\n",
       "\n",
       "    .dataframe thead th {\n",
       "        text-align: right;\n",
       "    }\n",
       "</style>\n",
       "<table border=\"1\" class=\"dataframe\">\n",
       "  <thead>\n",
       "    <tr style=\"text-align: right;\">\n",
       "      <th></th>\n",
       "      <th>Umur (bulan)</th>\n",
       "      <th>Jenis Kelamin</th>\n",
       "      <th>Tinggi Badan (cm)</th>\n",
       "      <th>Status Gizi</th>\n",
       "    </tr>\n",
       "  </thead>\n",
       "  <tbody>\n",
       "    <tr>\n",
       "      <th>0</th>\n",
       "      <td>0</td>\n",
       "      <td>laki-laki</td>\n",
       "      <td>44.591973</td>\n",
       "      <td>stunted</td>\n",
       "    </tr>\n",
       "    <tr>\n",
       "      <th>1</th>\n",
       "      <td>0</td>\n",
       "      <td>laki-laki</td>\n",
       "      <td>56.705203</td>\n",
       "      <td>tinggi</td>\n",
       "    </tr>\n",
       "    <tr>\n",
       "      <th>2</th>\n",
       "      <td>0</td>\n",
       "      <td>laki-laki</td>\n",
       "      <td>46.863358</td>\n",
       "      <td>normal</td>\n",
       "    </tr>\n",
       "    <tr>\n",
       "      <th>3</th>\n",
       "      <td>0</td>\n",
       "      <td>laki-laki</td>\n",
       "      <td>47.508026</td>\n",
       "      <td>normal</td>\n",
       "    </tr>\n",
       "    <tr>\n",
       "      <th>4</th>\n",
       "      <td>0</td>\n",
       "      <td>laki-laki</td>\n",
       "      <td>42.743494</td>\n",
       "      <td>severely stunted</td>\n",
       "    </tr>\n",
       "    <tr>\n",
       "      <th>...</th>\n",
       "      <td>...</td>\n",
       "      <td>...</td>\n",
       "      <td>...</td>\n",
       "      <td>...</td>\n",
       "    </tr>\n",
       "    <tr>\n",
       "      <th>120994</th>\n",
       "      <td>60</td>\n",
       "      <td>perempuan</td>\n",
       "      <td>100.600000</td>\n",
       "      <td>normal</td>\n",
       "    </tr>\n",
       "    <tr>\n",
       "      <th>120995</th>\n",
       "      <td>60</td>\n",
       "      <td>perempuan</td>\n",
       "      <td>98.300000</td>\n",
       "      <td>stunted</td>\n",
       "    </tr>\n",
       "    <tr>\n",
       "      <th>120996</th>\n",
       "      <td>60</td>\n",
       "      <td>perempuan</td>\n",
       "      <td>121.300000</td>\n",
       "      <td>normal</td>\n",
       "    </tr>\n",
       "    <tr>\n",
       "      <th>120997</th>\n",
       "      <td>60</td>\n",
       "      <td>perempuan</td>\n",
       "      <td>112.200000</td>\n",
       "      <td>normal</td>\n",
       "    </tr>\n",
       "    <tr>\n",
       "      <th>120998</th>\n",
       "      <td>60</td>\n",
       "      <td>perempuan</td>\n",
       "      <td>109.800000</td>\n",
       "      <td>normal</td>\n",
       "    </tr>\n",
       "  </tbody>\n",
       "</table>\n",
       "<p>120999 rows × 4 columns</p>\n",
       "</div>"
      ],
      "text/plain": [
       "        Umur (bulan) Jenis Kelamin  Tinggi Badan (cm)       Status Gizi\n",
       "0                  0     laki-laki          44.591973           stunted\n",
       "1                  0     laki-laki          56.705203            tinggi\n",
       "2                  0     laki-laki          46.863358            normal\n",
       "3                  0     laki-laki          47.508026            normal\n",
       "4                  0     laki-laki          42.743494  severely stunted\n",
       "...              ...           ...                ...               ...\n",
       "120994            60     perempuan         100.600000            normal\n",
       "120995            60     perempuan          98.300000           stunted\n",
       "120996            60     perempuan         121.300000            normal\n",
       "120997            60     perempuan         112.200000            normal\n",
       "120998            60     perempuan         109.800000            normal\n",
       "\n",
       "[120999 rows x 4 columns]"
      ]
     },
     "execution_count": 10,
     "metadata": {},
     "output_type": "execute_result"
    }
   ],
   "source": [
    "import pandas as pd\n",
    "import numpy as np\n",
    "\n",
    "df = pd.read_csv(\"dataset/data_balita.csv\")\n",
    "df"
   ]
  },
  {
   "cell_type": "markdown",
   "id": "d5ec1ddc",
   "metadata": {},
   "source": [
    "# Exploratory Data Analyst"
   ]
  },
  {
   "cell_type": "code",
   "execution_count": 11,
   "id": "572aa470",
   "metadata": {},
   "outputs": [
    {
     "name": "stdout",
     "output_type": "stream",
     "text": [
      "<class 'pandas.core.frame.DataFrame'>\n",
      "RangeIndex: 120999 entries, 0 to 120998\n",
      "Data columns (total 4 columns):\n",
      " #   Column             Non-Null Count   Dtype  \n",
      "---  ------             --------------   -----  \n",
      " 0   Umur (bulan)       120999 non-null  int64  \n",
      " 1   Jenis Kelamin      120999 non-null  object \n",
      " 2   Tinggi Badan (cm)  120999 non-null  float64\n",
      " 3   Status Gizi        120999 non-null  object \n",
      "dtypes: float64(1), int64(1), object(2)\n",
      "memory usage: 3.7+ MB\n"
     ]
    }
   ],
   "source": [
    "df.info()"
   ]
  },
  {
   "cell_type": "code",
   "execution_count": 12,
   "id": "4008d17e",
   "metadata": {},
   "outputs": [
    {
     "data": {
      "text/html": [
       "<div>\n",
       "<style scoped>\n",
       "    .dataframe tbody tr th:only-of-type {\n",
       "        vertical-align: middle;\n",
       "    }\n",
       "\n",
       "    .dataframe tbody tr th {\n",
       "        vertical-align: top;\n",
       "    }\n",
       "\n",
       "    .dataframe thead th {\n",
       "        text-align: right;\n",
       "    }\n",
       "</style>\n",
       "<table border=\"1\" class=\"dataframe\">\n",
       "  <thead>\n",
       "    <tr style=\"text-align: right;\">\n",
       "      <th></th>\n",
       "      <th>Umur (bulan)</th>\n",
       "      <th>Tinggi Badan (cm)</th>\n",
       "    </tr>\n",
       "  </thead>\n",
       "  <tbody>\n",
       "    <tr>\n",
       "      <th>count</th>\n",
       "      <td>120999.000000</td>\n",
       "      <td>120999.000000</td>\n",
       "    </tr>\n",
       "    <tr>\n",
       "      <th>mean</th>\n",
       "      <td>30.173803</td>\n",
       "      <td>88.655434</td>\n",
       "    </tr>\n",
       "    <tr>\n",
       "      <th>std</th>\n",
       "      <td>17.575119</td>\n",
       "      <td>17.300997</td>\n",
       "    </tr>\n",
       "    <tr>\n",
       "      <th>min</th>\n",
       "      <td>0.000000</td>\n",
       "      <td>40.010437</td>\n",
       "    </tr>\n",
       "    <tr>\n",
       "      <th>25%</th>\n",
       "      <td>15.000000</td>\n",
       "      <td>77.000000</td>\n",
       "    </tr>\n",
       "    <tr>\n",
       "      <th>50%</th>\n",
       "      <td>30.000000</td>\n",
       "      <td>89.800000</td>\n",
       "    </tr>\n",
       "    <tr>\n",
       "      <th>75%</th>\n",
       "      <td>45.000000</td>\n",
       "      <td>101.200000</td>\n",
       "    </tr>\n",
       "    <tr>\n",
       "      <th>max</th>\n",
       "      <td>60.000000</td>\n",
       "      <td>128.000000</td>\n",
       "    </tr>\n",
       "  </tbody>\n",
       "</table>\n",
       "</div>"
      ],
      "text/plain": [
       "        Umur (bulan)  Tinggi Badan (cm)\n",
       "count  120999.000000      120999.000000\n",
       "mean       30.173803          88.655434\n",
       "std        17.575119          17.300997\n",
       "min         0.000000          40.010437\n",
       "25%        15.000000          77.000000\n",
       "50%        30.000000          89.800000\n",
       "75%        45.000000         101.200000\n",
       "max        60.000000         128.000000"
      ]
     },
     "execution_count": 12,
     "metadata": {},
     "output_type": "execute_result"
    }
   ],
   "source": [
    "df.describe()"
   ]
  },
  {
   "cell_type": "code",
   "execution_count": 13,
   "id": "36d5fc06",
   "metadata": {},
   "outputs": [
    {
     "data": {
      "text/plain": [
       "Umur (bulan)         0\n",
       "Jenis Kelamin        0\n",
       "Tinggi Badan (cm)    0\n",
       "Status Gizi          0\n",
       "dtype: int64"
      ]
     },
     "execution_count": 13,
     "metadata": {},
     "output_type": "execute_result"
    }
   ],
   "source": [
    "df.isnull().sum()"
   ]
  },
  {
   "cell_type": "code",
   "execution_count": 14,
   "id": "16568c7a",
   "metadata": {},
   "outputs": [
    {
     "name": "stdout",
     "output_type": "stream",
     "text": [
      "Jumlah data duplikat: 81574\n"
     ]
    }
   ],
   "source": [
    "duplikat = df.duplicated()\n",
    "jumlah_duplikat = duplikat.sum()\n",
    "print(f\"Jumlah data duplikat: {jumlah_duplikat}\")"
   ]
  },
  {
   "cell_type": "code",
   "execution_count": 15,
   "id": "c7f8bb9f",
   "metadata": {},
   "outputs": [
    {
     "data": {
      "text/html": [
       "<div>\n",
       "<style scoped>\n",
       "    .dataframe tbody tr th:only-of-type {\n",
       "        vertical-align: middle;\n",
       "    }\n",
       "\n",
       "    .dataframe tbody tr th {\n",
       "        vertical-align: top;\n",
       "    }\n",
       "\n",
       "    .dataframe thead th {\n",
       "        text-align: right;\n",
       "    }\n",
       "</style>\n",
       "<table border=\"1\" class=\"dataframe\">\n",
       "  <thead>\n",
       "    <tr style=\"text-align: right;\">\n",
       "      <th></th>\n",
       "      <th>Umur (bulan)</th>\n",
       "      <th>Jenis Kelamin</th>\n",
       "      <th>Tinggi Badan (cm)</th>\n",
       "      <th>Status Gizi</th>\n",
       "    </tr>\n",
       "  </thead>\n",
       "  <tbody>\n",
       "    <tr>\n",
       "      <th>0</th>\n",
       "      <td>0</td>\n",
       "      <td>laki-laki</td>\n",
       "      <td>44.591973</td>\n",
       "      <td>stunted</td>\n",
       "    </tr>\n",
       "    <tr>\n",
       "      <th>1</th>\n",
       "      <td>0</td>\n",
       "      <td>laki-laki</td>\n",
       "      <td>56.705203</td>\n",
       "      <td>tinggi</td>\n",
       "    </tr>\n",
       "    <tr>\n",
       "      <th>2</th>\n",
       "      <td>0</td>\n",
       "      <td>laki-laki</td>\n",
       "      <td>46.863358</td>\n",
       "      <td>normal</td>\n",
       "    </tr>\n",
       "    <tr>\n",
       "      <th>3</th>\n",
       "      <td>0</td>\n",
       "      <td>laki-laki</td>\n",
       "      <td>47.508026</td>\n",
       "      <td>normal</td>\n",
       "    </tr>\n",
       "    <tr>\n",
       "      <th>4</th>\n",
       "      <td>0</td>\n",
       "      <td>laki-laki</td>\n",
       "      <td>42.743494</td>\n",
       "      <td>severely stunted</td>\n",
       "    </tr>\n",
       "    <tr>\n",
       "      <th>...</th>\n",
       "      <td>...</td>\n",
       "      <td>...</td>\n",
       "      <td>...</td>\n",
       "      <td>...</td>\n",
       "    </tr>\n",
       "    <tr>\n",
       "      <th>120959</th>\n",
       "      <td>60</td>\n",
       "      <td>perempuan</td>\n",
       "      <td>100.700000</td>\n",
       "      <td>normal</td>\n",
       "    </tr>\n",
       "    <tr>\n",
       "      <th>120967</th>\n",
       "      <td>60</td>\n",
       "      <td>perempuan</td>\n",
       "      <td>113.700000</td>\n",
       "      <td>normal</td>\n",
       "    </tr>\n",
       "    <tr>\n",
       "      <th>120968</th>\n",
       "      <td>60</td>\n",
       "      <td>perempuan</td>\n",
       "      <td>107.500000</td>\n",
       "      <td>normal</td>\n",
       "    </tr>\n",
       "    <tr>\n",
       "      <th>120972</th>\n",
       "      <td>60</td>\n",
       "      <td>perempuan</td>\n",
       "      <td>127.600000</td>\n",
       "      <td>tinggi</td>\n",
       "    </tr>\n",
       "    <tr>\n",
       "      <th>120993</th>\n",
       "      <td>60</td>\n",
       "      <td>perempuan</td>\n",
       "      <td>116.100000</td>\n",
       "      <td>normal</td>\n",
       "    </tr>\n",
       "  </tbody>\n",
       "</table>\n",
       "<p>39425 rows × 4 columns</p>\n",
       "</div>"
      ],
      "text/plain": [
       "        Umur (bulan) Jenis Kelamin  Tinggi Badan (cm)       Status Gizi\n",
       "0                  0     laki-laki          44.591973           stunted\n",
       "1                  0     laki-laki          56.705203            tinggi\n",
       "2                  0     laki-laki          46.863358            normal\n",
       "3                  0     laki-laki          47.508026            normal\n",
       "4                  0     laki-laki          42.743494  severely stunted\n",
       "...              ...           ...                ...               ...\n",
       "120959            60     perempuan         100.700000            normal\n",
       "120967            60     perempuan         113.700000            normal\n",
       "120968            60     perempuan         107.500000            normal\n",
       "120972            60     perempuan         127.600000            tinggi\n",
       "120993            60     perempuan         116.100000            normal\n",
       "\n",
       "[39425 rows x 4 columns]"
      ]
     },
     "execution_count": 15,
     "metadata": {},
     "output_type": "execute_result"
    }
   ],
   "source": [
    "df = df.drop_duplicates()\n",
    "df"
   ]
  },
  {
   "cell_type": "markdown",
   "id": "60acc089",
   "metadata": {},
   "source": [
    "# Analysis Distribution Data"
   ]
  },
  {
   "cell_type": "code",
   "execution_count": 16,
   "id": "90d74700",
   "metadata": {},
   "outputs": [],
   "source": [
    "from matplotlib import pyplot as plt\n",
    "import seaborn as sns"
   ]
  },
  {
   "cell_type": "code",
   "execution_count": 17,
   "id": "b83bc9a0",
   "metadata": {},
   "outputs": [
    {
     "data": {
      "image/png": "[encoded data removed]",
      "text/plain": [
       "<Figure size 640x480 with 1 Axes>"
      ]
     },
     "metadata": {},
     "output_type": "display_data"
    }
   ],
   "source": [
    "jml_Jkelamin = df['Jenis Kelamin'].value_counts()\n",
    "plt.pie(jml_Jkelamin, labels=jml_Jkelamin.index, autopct='%1.1f%%', startangle=90)\n",
    "plt.title('Distribusi Jenis Kelamin')\n",
    "plt.axis('equal') \n",
    "plt.show()"
   ]
  },
  {
   "cell_type": "code",
   "execution_count": 18,
   "id": "0dac842c",
   "metadata": {},
   "outputs": [
    {
     "data": {
      "image/png": "[encoded data removed]",
      "text/plain": [
       "<Figure size 640x480 with 1 Axes>"
      ]
     },
     "metadata": {},
     "output_type": "display_data"
    }
   ],
   "source": [
    "jml_statusgizi = df['Status Gizi'].value_counts()\n",
    "plt.pie(jml_statusgizi, labels=jml_statusgizi.index, autopct='%1.1f%%', startangle=90)\n",
    "plt.title('Distribusi Status Gizi')\n",
    "plt.axis('equal')\n",
    "plt.show()\n"
   ]
  },
  {
   "cell_type": "markdown",
   "id": "fb3549e0",
   "metadata": {},
   "source": [
    "# Konversi Data Kategorikal "
   ]
  },
  {
   "cell_type": "code",
   "execution_count": 19,
   "id": "4f7a0945",
   "metadata": {},
   "outputs": [
    {
     "name": "stderr",
     "output_type": "stream",
     "text": [
      "C:\\Users\\NITRO\\AppData\\Local\\Temp\\ipykernel_33268\\1210205483.py:6: SettingWithCopyWarning: \n",
      "A value is trying to be set on a copy of a slice from a DataFrame.\n",
      "Try using .loc[row_indexer,col_indexer] = value instead\n",
      "\n",
      "See the caveats in the documentation: https://pandas.pydata.org/pandas-docs/stable/user_guide/indexing.html#returning-a-view-versus-a-copy\n",
      "  df['Jenis Kelamin'] = le_gender.fit_transform(df['Jenis Kelamin'])\n",
      "C:\\Users\\NITRO\\AppData\\Local\\Temp\\ipykernel_33268\\1210205483.py:7: SettingWithCopyWarning: \n",
      "A value is trying to be set on a copy of a slice from a DataFrame.\n",
      "Try using .loc[row_indexer,col_indexer] = value instead\n",
      "\n",
      "See the caveats in the documentation: https://pandas.pydata.org/pandas-docs/stable/user_guide/indexing.html#returning-a-view-versus-a-copy\n",
      "  df['Status Gizi'] = le_gizi.fit_transform(df['Status Gizi'])\n"
     ]
    },
    {
     "data": {
      "text/plain": [
       "({'laki-laki': np.int64(0), 'perempuan': np.int64(1)},\n",
       " {'normal': np.int64(0),\n",
       "  'severely stunted': np.int64(1),\n",
       "  'stunted': np.int64(2),\n",
       "  'tinggi': np.int64(3)})"
      ]
     },
     "execution_count": 19,
     "metadata": {},
     "output_type": "execute_result"
    }
   ],
   "source": [
    "from sklearn.preprocessing import LabelEncoder\n",
    "le_gender = LabelEncoder()\n",
    "le_gizi = LabelEncoder()\n",
    "\n",
    "# Encode fitur kategorikal & target sesuai training\n",
    "df['Jenis Kelamin'] = le_gender.fit_transform(df['Jenis Kelamin'])\n",
    "df['Status Gizi'] = le_gizi.fit_transform(df['Status Gizi'])\n",
    "\n",
    "# Opsional: lihat mapping yang dipakai saat training (untuk referensi)\n",
    "gender_mapping = dict(zip(le_gender.classes_, le_gender.transform(le_gender.classes_)))\n",
    "status_mapping = dict(zip(le_gizi.classes_, le_gizi.transform(le_gizi.classes_)))\n",
    "gender_mapping, status_mapping\n"
   ]
  },
  {
   "cell_type": "code",
   "execution_count": 20,
   "id": "efed9c0e",
   "metadata": {},
   "outputs": [
    {
     "name": "stdout",
     "output_type": "stream",
     "text": [
      "Mapping Jenis Kelamin: {'laki-laki': np.int64(0), 'perempuan': np.int64(1)}\n",
      "Mapping Status Gizi: {'normal': np.int64(0), 'severely stunted': np.int64(1), 'stunted': np.int64(2), 'tinggi': np.int64(3)}\n"
     ]
    }
   ],
   "source": [
    "gender_mapping = dict(zip(le_gender.classes_, le_gender.transform(le_gender.classes_)))\n",
    "gizi_mapping = dict(zip(le_gizi.classes_, le_gizi.transform(le_gizi.classes_)))\n",
    "\n",
    "print(\"Mapping Jenis Kelamin:\", gender_mapping)\n",
    "print(\"Mapping Status Gizi:\", gizi_mapping)"
   ]
  },
  {
   "cell_type": "code",
   "execution_count": 21,
   "id": "4dd8e788",
   "metadata": {},
   "outputs": [
    {
     "data": {
      "text/html": [
       "<div>\n",
       "<style scoped>\n",
       "    .dataframe tbody tr th:only-of-type {\n",
       "        vertical-align: middle;\n",
       "    }\n",
       "\n",
       "    .dataframe tbody tr th {\n",
       "        vertical-align: top;\n",
       "    }\n",
       "\n",
       "    .dataframe thead th {\n",
       "        text-align: right;\n",
       "    }\n",
       "</style>\n",
       "<table border=\"1\" class=\"dataframe\">\n",
       "  <thead>\n",
       "    <tr style=\"text-align: right;\">\n",
       "      <th></th>\n",
       "      <th>Umur (bulan)</th>\n",
       "      <th>Jenis Kelamin</th>\n",
       "      <th>Tinggi Badan (cm)</th>\n",
       "      <th>Status Gizi</th>\n",
       "    </tr>\n",
       "  </thead>\n",
       "  <tbody>\n",
       "    <tr>\n",
       "      <th>0</th>\n",
       "      <td>0</td>\n",
       "      <td>0</td>\n",
       "      <td>44.591973</td>\n",
       "      <td>2</td>\n",
       "    </tr>\n",
       "    <tr>\n",
       "      <th>1</th>\n",
       "      <td>0</td>\n",
       "      <td>0</td>\n",
       "      <td>56.705203</td>\n",
       "      <td>3</td>\n",
       "    </tr>\n",
       "    <tr>\n",
       "      <th>2</th>\n",
       "      <td>0</td>\n",
       "      <td>0</td>\n",
       "      <td>46.863358</td>\n",
       "      <td>0</td>\n",
       "    </tr>\n",
       "    <tr>\n",
       "      <th>3</th>\n",
       "      <td>0</td>\n",
       "      <td>0</td>\n",
       "      <td>47.508026</td>\n",
       "      <td>0</td>\n",
       "    </tr>\n",
       "    <tr>\n",
       "      <th>4</th>\n",
       "      <td>0</td>\n",
       "      <td>0</td>\n",
       "      <td>42.743494</td>\n",
       "      <td>1</td>\n",
       "    </tr>\n",
       "  </tbody>\n",
       "</table>\n",
       "</div>"
      ],
      "text/plain": [
       "   Umur (bulan)  Jenis Kelamin  Tinggi Badan (cm)  Status Gizi\n",
       "0             0              0          44.591973            2\n",
       "1             0              0          56.705203            3\n",
       "2             0              0          46.863358            0\n",
       "3             0              0          47.508026            0\n",
       "4             0              0          42.743494            1"
      ]
     },
     "execution_count": 21,
     "metadata": {},
     "output_type": "execute_result"
    }
   ],
   "source": [
    "df.head()"
   ]
  },
  {
   "cell_type": "markdown",
   "id": "4619dc9d",
   "metadata": {},
   "source": [
    "# Normalisasi"
   ]
  },
  {
   "cell_type": "code",
   "execution_count": 22,
   "id": "d2c764f0",
   "metadata": {},
   "outputs": [
    {
     "name": "stderr",
     "output_type": "stream",
     "text": [
      "C:\\Users\\NITRO\\AppData\\Local\\Temp\\ipykernel_33268\\3228254475.py:5: SettingWithCopyWarning: \n",
      "A value is trying to be set on a copy of a slice from a DataFrame.\n",
      "Try using .loc[row_indexer,col_indexer] = value instead\n",
      "\n",
      "See the caveats in the documentation: https://pandas.pydata.org/pandas-docs/stable/user_guide/indexing.html#returning-a-view-versus-a-copy\n",
      "  df[['Tinggi Badan (cm)', 'Umur (bulan)']] = minmax_scaler.fit_transform(df[['Tinggi Badan (cm)', 'Umur (bulan)']])\n"
     ]
    },
    {
     "data": {
      "text/html": [
       "<div>\n",
       "<style scoped>\n",
       "    .dataframe tbody tr th:only-of-type {\n",
       "        vertical-align: middle;\n",
       "    }\n",
       "\n",
       "    .dataframe tbody tr th {\n",
       "        vertical-align: top;\n",
       "    }\n",
       "\n",
       "    .dataframe thead th {\n",
       "        text-align: right;\n",
       "    }\n",
       "</style>\n",
       "<table border=\"1\" class=\"dataframe\">\n",
       "  <thead>\n",
       "    <tr style=\"text-align: right;\">\n",
       "      <th></th>\n",
       "      <th>Umur (bulan)</th>\n",
       "      <th>Jenis Kelamin</th>\n",
       "      <th>Tinggi Badan (cm)</th>\n",
       "      <th>Status Gizi</th>\n",
       "    </tr>\n",
       "  </thead>\n",
       "  <tbody>\n",
       "    <tr>\n",
       "      <th>0</th>\n",
       "      <td>0.0</td>\n",
       "      <td>0</td>\n",
       "      <td>0.052069</td>\n",
       "      <td>2</td>\n",
       "    </tr>\n",
       "    <tr>\n",
       "      <th>1</th>\n",
       "      <td>0.0</td>\n",
       "      <td>0</td>\n",
       "      <td>0.189736</td>\n",
       "      <td>3</td>\n",
       "    </tr>\n",
       "    <tr>\n",
       "      <th>2</th>\n",
       "      <td>0.0</td>\n",
       "      <td>0</td>\n",
       "      <td>0.077883</td>\n",
       "      <td>0</td>\n",
       "    </tr>\n",
       "    <tr>\n",
       "      <th>3</th>\n",
       "      <td>0.0</td>\n",
       "      <td>0</td>\n",
       "      <td>0.085210</td>\n",
       "      <td>0</td>\n",
       "    </tr>\n",
       "    <tr>\n",
       "      <th>4</th>\n",
       "      <td>0.0</td>\n",
       "      <td>0</td>\n",
       "      <td>0.031061</td>\n",
       "      <td>1</td>\n",
       "    </tr>\n",
       "  </tbody>\n",
       "</table>\n",
       "</div>"
      ],
      "text/plain": [
       "   Umur (bulan)  Jenis Kelamin  Tinggi Badan (cm)  Status Gizi\n",
       "0           0.0              0           0.052069            2\n",
       "1           0.0              0           0.189736            3\n",
       "2           0.0              0           0.077883            0\n",
       "3           0.0              0           0.085210            0\n",
       "4           0.0              0           0.031061            1"
      ]
     },
     "execution_count": 22,
     "metadata": {},
     "output_type": "execute_result"
    }
   ],
   "source": [
    "from sklearn.preprocessing import MinMaxScaler\n",
    "\n",
    "minmax_scaler = MinMaxScaler()\n",
    "\n",
    "df[['Tinggi Badan (cm)', 'Umur (bulan)']] = minmax_scaler.fit_transform(df[['Tinggi Badan (cm)', 'Umur (bulan)']])\n",
    "df.head()"
   ]
  },
  {
   "cell_type": "code",
   "execution_count": 23,
   "id": "714a123e",
   "metadata": {},
   "outputs": [],
   "source": [
    "X = df.drop(columns=['Status Gizi'],axis=1)\n",
    "y = df['Status Gizi']"
   ]
  },
  {
   "cell_type": "code",
   "execution_count": 24,
   "id": "6ed0d5d3",
   "metadata": {},
   "outputs": [
    {
     "name": "stdout",
     "output_type": "stream",
     "text": [
      "Dimensi fitur dan label:\n",
      "X shape: (39425, 3)\n",
      "y shape: (39425,)\n"
     ]
    }
   ],
   "source": [
    "print(\"Dimensi fitur dan label:\")\n",
    "print(f\"X shape: {X.shape}\")\n",
    "print(f\"y shape: {y.shape}\")"
   ]
  },
  {
   "cell_type": "code",
   "execution_count": 25,
   "id": "e1ef82d3",
   "metadata": {},
   "outputs": [
    {
     "data": {
      "text/html": [
       "<div>\n",
       "<style scoped>\n",
       "    .dataframe tbody tr th:only-of-type {\n",
       "        vertical-align: middle;\n",
       "    }\n",
       "\n",
       "    .dataframe tbody tr th {\n",
       "        vertical-align: top;\n",
       "    }\n",
       "\n",
       "    .dataframe thead th {\n",
       "        text-align: right;\n",
       "    }\n",
       "</style>\n",
       "<table border=\"1\" class=\"dataframe\">\n",
       "  <thead>\n",
       "    <tr style=\"text-align: right;\">\n",
       "      <th></th>\n",
       "      <th>Umur (bulan)</th>\n",
       "      <th>Jenis Kelamin</th>\n",
       "      <th>Tinggi Badan (cm)</th>\n",
       "      <th>Status Gizi</th>\n",
       "    </tr>\n",
       "  </thead>\n",
       "  <tbody>\n",
       "    <tr>\n",
       "      <th>0</th>\n",
       "      <td>0.0</td>\n",
       "      <td>0</td>\n",
       "      <td>0.052069</td>\n",
       "      <td>2</td>\n",
       "    </tr>\n",
       "    <tr>\n",
       "      <th>1</th>\n",
       "      <td>0.0</td>\n",
       "      <td>0</td>\n",
       "      <td>0.189736</td>\n",
       "      <td>3</td>\n",
       "    </tr>\n",
       "    <tr>\n",
       "      <th>2</th>\n",
       "      <td>0.0</td>\n",
       "      <td>0</td>\n",
       "      <td>0.077883</td>\n",
       "      <td>0</td>\n",
       "    </tr>\n",
       "    <tr>\n",
       "      <th>3</th>\n",
       "      <td>0.0</td>\n",
       "      <td>0</td>\n",
       "      <td>0.085210</td>\n",
       "      <td>0</td>\n",
       "    </tr>\n",
       "    <tr>\n",
       "      <th>4</th>\n",
       "      <td>0.0</td>\n",
       "      <td>0</td>\n",
       "      <td>0.031061</td>\n",
       "      <td>1</td>\n",
       "    </tr>\n",
       "  </tbody>\n",
       "</table>\n",
       "</div>"
      ],
      "text/plain": [
       "   Umur (bulan)  Jenis Kelamin  Tinggi Badan (cm)  Status Gizi\n",
       "0           0.0              0           0.052069            2\n",
       "1           0.0              0           0.189736            3\n",
       "2           0.0              0           0.077883            0\n",
       "3           0.0              0           0.085210            0\n",
       "4           0.0              0           0.031061            1"
      ]
     },
     "execution_count": 25,
     "metadata": {},
     "output_type": "execute_result"
    }
   ],
   "source": [
    "df.head()"
   ]
  },
  {
   "cell_type": "markdown",
   "id": "1775fa69",
   "metadata": {},
   "source": [
    "# Train Test Split Method"
   ]
  },
  {
   "cell_type": "code",
   "execution_count": 26,
   "id": "5a382434",
   "metadata": {},
   "outputs": [],
   "source": [
    "from sklearn.model_selection import train_test_split, cross_val_score\n",
    "\n",
    "X = df.drop('Status Gizi', axis=1)\n",
    "y = df['Status Gizi']"
   ]
  },
  {
   "cell_type": "code",
   "execution_count": 27,
   "id": "e39179eb",
   "metadata": {},
   "outputs": [
    {
     "name": "stdout",
     "output_type": "stream",
     "text": [
      "Setelah Undersampling: Counter({0: 4417, 1: 4417, 2: 4417, 3: 4417})\n",
      "Sebelum Undersampling: Counter({0: 21514, 3: 6974, 1: 6520, 2: 4417})\n"
     ]
    }
   ],
   "source": [
    "from imblearn.under_sampling import RandomUnderSampler\n",
    "from collections import Counter\n",
    "\n",
    "# Undersampling dengan Random Under Sampler\n",
    "us = RandomUnderSampler(random_state=42)\n",
    "X_undersampled, y_undersampled = us.fit_resample(X, y)\n",
    "# Menampilkan distribusi kelas setelah undersampling\n",
    "print(f\"Setelah Undersampling: {Counter(y_undersampled)}\")\n",
    "print(f\"Sebelum Undersampling: {Counter(df['Status Gizi'])}\")"
   ]
  },
  {
   "cell_type": "code",
   "execution_count": 28,
   "id": "1d5c62a7",
   "metadata": {},
   "outputs": [],
   "source": [
    "X_train,X_test,y_train,y_test = train_test_split(X_undersampled,y_undersampled,test_size=0.2,random_state=42)"
   ]
  },
  {
   "cell_type": "markdown",
   "id": "4a730fb5",
   "metadata": {},
   "source": [
    "# Klasifikasi Menggunakan SVM"
   ]
  },
  {
   "cell_type": "code",
   "execution_count": 29,
   "id": "7c236c2f",
   "metadata": {},
   "outputs": [],
   "source": [
    "from sklearn.svm import SVC\n",
    "svm_model= SVC(probability=True, random_state=42)\n",
    "svm_model.fit(X_train, y_train)\n",
    "y_pred= svm_model.predict(X_test)"
   ]
  },
  {
   "cell_type": "code",
   "execution_count": 30,
   "id": "e18bb9c3",
   "metadata": {},
   "outputs": [
    {
     "name": "stdout",
     "output_type": "stream",
     "text": [
      "Support Vector Machine\n",
      "Confusion Matrix:\n",
      "[[673   9  97  91]\n",
      " [  0 838  63   0]\n",
      " [  0  67 822   0]\n",
      " [  0   0   0 874]]\n",
      "Classification Report :\n",
      "              precision    recall  f1-score   support\n",
      "\n",
      "           0       1.00      0.77      0.87       870\n",
      "           1       0.92      0.93      0.92       901\n",
      "           2       0.84      0.92      0.88       889\n",
      "           3       0.91      1.00      0.95       874\n",
      "\n",
      "    accuracy                           0.91      3534\n",
      "   macro avg       0.91      0.91      0.91      3534\n",
      "weighted avg       0.91      0.91      0.91      3534\n",
      "\n"
     ]
    }
   ],
   "source": [
    "from sklearn.metrics import classification_report, confusion_matrix\n",
    "print(\"Support Vector Machine\")\n",
    "print(\"Confusion Matrix:\")\n",
    "print(confusion_matrix(y_test, y_pred))\n",
    "print(\"Classification Report :\")\n",
    "print(classification_report(y_test, y_pred))"
   ]
  },
  {
   "cell_type": "code",
   "execution_count": 31,
   "id": "07df86df",
   "metadata": {},
   "outputs": [
    {
     "data": {
      "image/png": "[encoded data removed]",
      "text/plain": [
       "<Figure size 1000x700 with 2 Axes>"
      ]
     },
     "metadata": {},
     "output_type": "display_data"
    }
   ],
   "source": [
    "# Plot the confusion matrix with the correct label order\n",
    "plt.figure(figsize=(10, 7))\n",
    "\n",
    "# Generate the confusion matrix\n",
    "conf_matrix_svm = confusion_matrix(y_test, y_pred)\n",
    "\n",
    "# Reordering the labels based on the correct encoded values\n",
    "labels = ['Normal', 'Severely Stunted', 'Stunted', 'Tall']  # Matches the encoding: 0, 1, 2, 3\n",
    "\n",
    "# Plot the heatmap\n",
    "sns.heatmap(conf_matrix_svm, annot=True, fmt='d', cmap='Blues', xticklabels=labels, yticklabels=labels)\n",
    "\n",
    "# Adding labels and title\n",
    "plt.xlabel('Predicted')\n",
    "plt.ylabel('Actual')\n",
    "plt.title('Confusion Matrix (SVM)')\n",
    "plt.show()"
   ]
  },
  {
   "cell_type": "code",
   "execution_count": 32,
   "id": "275db369",
   "metadata": {},
   "outputs": [
    {
     "name": "stdout",
     "output_type": "stream",
     "text": [
      "Accuracy Support Vector Machine : 90.74702886247877\n",
      "Precision Support Vector Machine : [1.         0.91684902 0.83706721 0.90569948]\n",
      "Recall Support Vector Machine : [0.77356322 0.93007769 0.92463442 1.        ]\n",
      "F1 Support Vector Machine : [0.87232664 0.92341598 0.87867451 0.95051659]\n"
     ]
    }
   ],
   "source": [
    "from sklearn.metrics import classification_report,confusion_matrix,roc_auc_score, accuracy_score, precision_score, recall_score, f1_score\n",
    "svm_acc = accuracy_score(y_test, y_pred)\n",
    "svm_prec = precision_score(y_test, y_pred, average=None)\n",
    "svm_rec = recall_score(y_test, y_pred,average=None)\n",
    "svm_f1 = f1_score(y_test, y_pred,average=None)\n",
    "print(f'Accuracy Support Vector Machine : {svm_acc*100}')\n",
    "print(f'Precision Support Vector Machine : {svm_prec}')\n",
    "print(f'Recall Support Vector Machine : {svm_rec}')\n",
    "print(f'F1 Support Vector Machine : {svm_f1}')"
   ]
  },
  {
   "cell_type": "markdown",
   "id": "37b0f1f1",
   "metadata": {},
   "source": [
    "# Cross Validation "
   ]
  },
  {
   "cell_type": "code",
   "execution_count": 33,
   "id": "5dd81333",
   "metadata": {},
   "outputs": [
    {
     "name": "stdout",
     "output_type": "stream",
     "text": [
      "\n",
      "Cross-validation Scores Support Vector Machine :\n",
      "[0.89812522 0.90166254 0.89812522 0.89954015 0.89879689]\n",
      "Mean CV Score : 0.8992500033170187\n"
     ]
    }
   ],
   "source": [
    "cv_scores_linear = cross_val_score(svm_model, X_train, y_train, cv=5)\n",
    "print(\"\\nCross-validation Scores Support Vector Machine :\")\n",
    "print(cv_scores_linear)\n",
    "print(f\"Mean CV Score : {cv_scores_linear.mean()}\")"
   ]
  },
  {
   "cell_type": "markdown",
   "id": "5130774b",
   "metadata": {},
   "source": [
    "# Klasifikasi Menggunakan Decision Tree"
   ]
  },
  {
   "cell_type": "code",
   "execution_count": 34,
   "id": "93ade421",
   "metadata": {},
   "outputs": [
    {
     "name": "stdout",
     "output_type": "stream",
     "text": [
      "Accuracy Score: 89.39%\n",
      "\n"
     ]
    }
   ],
   "source": [
    "from sklearn.tree import DecisionTreeClassifier\n",
    "from sklearn.metrics import classification_report, confusion_matrix\n",
    "from sklearn.preprocessing import LabelEncoder\n",
    "\n",
    "#Inisialisasi Model\n",
    "dt_model = DecisionTreeClassifier(max_depth=10)\n",
    "dt_model.fit(X_train, y_train)\n",
    "\n",
    "y_pred_dt = dt_model.predict(X_test)\n",
    "\n",
    "#Prediksi Model\n",
    "acc_dt = accuracy_score(y_test, y_pred_dt)\n",
    "print(f\"Accuracy Score: {acc_dt*100:.2f}%\\n\")"
   ]
  },
  {
   "cell_type": "code",
   "execution_count": 35,
   "id": "03fc7984",
   "metadata": {},
   "outputs": [
    {
     "name": "stdout",
     "output_type": "stream",
     "text": [
      "Classification Report for Decision Tree \n",
      "              precision    recall  f1-score   support\n",
      "\n",
      "           0       0.94      0.89      0.91       870\n",
      "           1       0.89      0.85      0.87       901\n",
      "           2       0.79      0.87      0.83       889\n",
      "           3       0.97      0.97      0.97       874\n",
      "\n",
      "    accuracy                           0.89      3534\n",
      "   macro avg       0.90      0.89      0.90      3534\n",
      "weighted avg       0.90      0.89      0.89      3534\n",
      "\n"
     ]
    },
    {
     "data": {
      "image/png": "[encoded data removed]",
      "text/plain": [
       "<Figure size 800x600 with 2 Axes>"
      ]
     },
     "metadata": {},
     "output_type": "display_data"
    }
   ],
   "source": [
    "# Classification Report\n",
    "print(\"Classification Report for Decision Tree \")\n",
    "print(classification_report(y_test, y_pred_dt))\n",
    "\n",
    "# Confusion Matrix for DT\n",
    "conf_matrix_dt = confusion_matrix(y_test, y_pred_dt)\n",
    "plt.figure(figsize=(8, 6))\n",
    "sns.heatmap(conf_matrix_dt, annot=True, fmt='d', cmap='Blues', xticklabels=labels, yticklabels=labels)\n",
    "plt.title(\"Confusion Matrix - Decision Tree\")\n",
    "plt.xlabel(\"Predicted\")\n",
    "plt.ylabel(\"Actual\")\n",
    "plt.show()"
   ]
  },
  {
   "cell_type": "markdown",
   "id": "7206a1a4",
   "metadata": {},
   "source": [
    "# Cross Validation Decision Tree"
   ]
  },
  {
   "cell_type": "code",
   "execution_count": 36,
   "id": "c3b70f7a",
   "metadata": {},
   "outputs": [
    {
     "name": "stdout",
     "output_type": "stream",
     "text": [
      "\n",
      "Cross-validation Scores Decision Tree :\n",
      "[0.88928192 0.90237    0.9122745  0.89281924 0.89171975]\n",
      "Mean CV Score : 0.8976930824015014\n"
     ]
    }
   ],
   "source": [
    "cv_scores_linear_dt = cross_val_score(dt_model, X_train, y_train, cv=5)\n",
    "print(\"\\nCross-validation Scores Decision Tree :\")\n",
    "print(cv_scores_linear_dt)\n",
    "print(f\"Mean CV Score : {cv_scores_linear_dt.mean()}\")"
   ]
  },
  {
   "cell_type": "code",
   "execution_count": 37,
   "id": "49431c3b",
   "metadata": {},
   "outputs": [
    {
     "data": {
      "image/png": "[encoded data removed]",
      "text/plain": [
       "<Figure size 640x480 with 1 Axes>"
      ]
     },
     "metadata": {},
     "output_type": "display_data"
    }
   ],
   "source": [
    "akurasi_svm = svm_acc * 100\n",
    "akurasi_dt = acc_dt * 100\n",
    "\n",
    "accuracies = [akurasi_svm, akurasi_dt]  # <-- Tambahkan ini\n",
    "\n",
    "plt.bar([\"SVM\", \"Decision Tree\"], accuracies, color=[\"blue\", \"green\"])\n",
    "plt.title(\"Perbandingan Akurasi Model\")\n",
    "plt.ylabel(\"Accuracy (%)\")\n",
    "plt.ylim(0, 100)\n",
    "\n",
    "for i, acc in enumerate(accuracies):\n",
    "    plt.text(i, acc + 1, f\"{acc:.2f}%\", ha='center', fontsize=10)\n",
    "\n",
    "plt.show()"
   ]
  },
  {
   "cell_type": "code",
   "execution_count": 43,
   "id": "b15c1fe7",
   "metadata": {},
   "outputs": [
    {
     "name": "stdout",
     "output_type": "stream",
     "text": [
      "✅ Model, encoder, dan scaler disimpan ke 'svm_model.pkl'\n"
     ]
    }
   ],
   "source": [
    "import pickle\n",
    "\n",
    "# Simpan model + encoder + scaler ke satu file agar prediksi konsisten\n",
    "model_bundle = {\n",
    "    \"model\": svm_model,          # SVC yang sudah dilatih\n",
    "    \"encoder_gender\": le_gender, # LabelEncoder untuk kolom 'Jenis Kelamin'\n",
    "    \"encoder_status\": le_gizi,   # LabelEncoder untuk target 'Status Gizi'\n",
    "    \"scaler\": minmax_scaler      # MinMaxScaler untuk fitur numerik\n",
    "}\n",
    "\n",
    "with open(\"svm_model.pkl\", \"wb\") as f:\n",
    "    pickle.dump(model_bundle, f)\n",
    "\n",
    "print(\"✅ Model, encoder, dan scaler disimpan ke 'svm_model.pkl'\")\n"
   ]
  },
  {
   "cell_type": "code",
   "execution_count": 42,
   "id": "e767603f",
   "metadata": {},
   "outputs": [
    {
     "name": "stdout",
     "output_type": "stream",
     "text": [
      "Kelas Jenis Kelamin di encoder: ['laki-laki', 'perempuan']\n",
      "   Umur (bulan)  Jenis Kelamin  Tinggi Badan (cm) Prediksi Status Gizi\n",
      "0            47              0              101.4               normal\n",
      "1            47              1               87.0     severely stunted\n",
      "2            36              0               95.0               normal\n"
     ]
    }
   ],
   "source": [
    "import pickle\n",
    "import pandas as pd\n",
    "import numpy as np\n",
    "\n",
    "# === UJI CEPAT DENGAN DATAFRAME ===\n",
    "# 1) Load bundle\n",
    "with open(\"svm_model.pkl\", \"rb\") as f:\n",
    "    bundle = pickle.load(f)\n",
    "\n",
    "model = bundle[\"model\"]\n",
    "encoder_gender = bundle[\"encoder_gender\"]\n",
    "encoder_status = bundle[\"encoder_status\"]\n",
    "scaler = bundle[\"scaler\"]\n",
    "\n",
    "# 2) Buat DataFrame uji (silakan ubah nilainya untuk mengetes)\n",
    "df_test = pd.DataFrame({\n",
    "    \"Umur (bulan)\": [47, 47, 36],\n",
    "    \"Jenis Kelamin\": [\"laki-laki\", \"perempuan\", \"laki-laki\"],\n",
    "    \"Tinggi Badan (cm)\": [101.4, 87.0, 95.0]\n",
    "})\n",
    "\n",
    "# 3) Samakan format label 'Jenis Kelamin' dengan encoder training (hindari unseen labels)\n",
    "# Normalisasi sederhana: strip + lowercase -> sesuaikan kelas encoder ke lowercase juga\n",
    "df_test[\"Jenis Kelamin\"] = df_test[\"Jenis Kelamin\"].astype(str).str.strip()\n",
    "enc_classes = list(encoder_gender.classes_)\n",
    "# Jika kelas encoder tampak berbeda kapitalisasi, tetap gunakan transform langsung;\n",
    "# pastikan nilai di df_test cocok persis dengan kelas encoder.\n",
    "# Kalau perlu, tampilkan kelas yang tersedia:\n",
    "print(\"Kelas Jenis Kelamin di encoder:\", enc_classes)\n",
    "\n",
    "# 4) Transform fitur kategorikal sesuai encoder training\n",
    "df_test[\"Jenis Kelamin\"] = encoder_gender.transform(df_test[\"Jenis Kelamin\"])\n",
    "\n",
    "# 5) Susun fitur dengan NAMA KOLOM yang SAMA seperti training\n",
    "X_new = df_test[[\"Umur (bulan)\", \"Jenis Kelamin\", \"Tinggi Badan (cm)\"]]\n",
    "\n",
    "# 6) Scale fitur numerik menggunakan scaler training\n",
    "# Catatan: saat training, kita men-scale dua kolom numerik langsung di dataframe (MinMaxScaler fit di df).\n",
    "# Karena itu, untuk konsistensi, kita panggil scaler.transform ke subset kolom numerik dan re-assign.\n",
    "num_cols = [\"Tinggi Badan (cm)\", \"Umur (bulan)\"]\n",
    "X_new_scaled = X_new.copy()\n",
    "X_new_scaled[num_cols] = scaler.transform(X_new_scaled[num_cols])\n",
    "\n",
    "# 7) Prediksi\n",
    "y_pred_enc = model.predict(X_new_scaled)\n",
    "\n",
    "# 8) Decode label ke bentuk aslinya\n",
    "y_pred = encoder_status.inverse_transform(y_pred_enc)\n",
    "\n",
    "# 9) Tampilkan hasil\n",
    "df_out = X_new.copy()\n",
    "df_out[\"Prediksi Status Gizi\"] = y_pred\n",
    "print(df_out)\n"
   ]
  },
  {
   "cell_type": "code",
   "execution_count": null,
   "id": "62b5e72e",
   "metadata": {},
   "outputs": [],
   "source": [
    "import pickle\n",
    "\n",
    "with open(\"model_pipeline.pkl\", \"wb\") as f:\n",
    "    pickle.dump((svm_model, le_gender, scaler), f)"
   ]
  },
  {
   "cell_type": "markdown",
   "id": "411f08bd",
   "metadata": {},
   "source": [
    "\n",
    "> **Catatan Perbaikan Penting**\n",
    ">\n",
    "> 1. **Scaler disimpan**: MinMaxScaler dari training sekarang ikut disimpan di `svm_model.pkl` dan **wajib** dipakai saat prediksi.\n",
    "> 2. **Nama kolom konsisten**: Prediksi menggunakan kolom persis seperti saat training — `['Umur (bulan)', 'Jenis Kelamin', 'Tinggi Badan (cm)']`. Jangan ganti jadi `Jenis Kelamin Encode`.\n",
    "> 3. **Encoder yang sama**: Kolom `Jenis Kelamin` di data uji di-transform memakai `encoder_gender` dari training; hasilnya **tetap disimpan di kolom yang sama** supaya nama kolom cocok dengan model.\n",
    "> 4. Jika hasil masih satu kelas terus, cek distribusi label `df['Status Gizi'].value_counts()` dan pertimbangkan `class_weight='balanced'` pada SVC.\n"
   ]
  }
 ],
 "metadata": {
  "kernelspec": {
   "display_name": "Python 3",
   "language": "python",
   "name": "python3"
  },
  "language_info": {
   "codemirror_mode": {
    "name": "ipython",
    "version": 3
   },
   "file_extension": ".py",
   "mimetype": "text/x-python",
   "name": "python",
   "nbconvert_exporter": "python",
   "pygments_lexer": "ipython3",
   "version": "3.11.9"
  }
 },
 "nbformat": 4,
 "nbformat_minor": 5
}
